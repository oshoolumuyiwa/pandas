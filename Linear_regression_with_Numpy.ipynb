{
  "nbformat": 4,
  "nbformat_minor": 0,
  "metadata": {
    "colab": {
      "name": "Linear regression with Numpy.ipynb",
      "version": "0.3.2",
      "provenance": [],
      "collapsed_sections": []
    },
    "kernelspec": {
      "name": "python3",
      "display_name": "Python 3"
    }
  },
  "cells": [
    {
      "cell_type": "markdown",
      "metadata": {
        "id": "view-in-github",
        "colab_type": "text"
      },
      "source": [
        "[View in Colaboratory](https://colab.research.google.com/github/oshoolumuyiwa/pandas/blob/master/Linear_regression_with_Numpy.ipynb)"
      ]
    },
    {
      "metadata": {
        "id": "GMgP864m2tPv",
        "colab_type": "text"
      },
      "cell_type": "markdown",
      "source": [
        "# **Dependencies**\n"
      ]
    },
    {
      "metadata": {
        "id": "0iAlYyI-2k9o",
        "colab_type": "code",
        "colab": {}
      },
      "cell_type": "code",
      "source": [
        "#Import libraries\n",
        "import numpy as np\n",
        "import matplotlib.pyplot as plt"
      ],
      "execution_count": 0,
      "outputs": []
    },
    {
      "metadata": {
        "id": "K7BTU6F228-c",
        "colab_type": "text"
      },
      "cell_type": "markdown",
      "source": [
        "# Dataset"
      ]
    },
    {
      "metadata": {
        "id": "Cq2qTScYyx3Q",
        "colab_type": "code",
        "colab": {}
      },
      "cell_type": "code",
      "source": [
        "#!wget https://github.com/gigwegbe/The_Math_of_Intelligence/blob/master/Week1/Intro_to_the_Math_of_intelligence-master/tensorflow/slr05.xls(If, there is more time do this!)"
      ],
      "execution_count": 0,
      "outputs": []
    },
    {
      "metadata": {
        "id": "QBr4W_W3wnTm",
        "colab_type": "code",
        "colab": {}
      },
      "cell_type": "code",
      "source": [
        "# Convert array to Numpy array\n",
        "train_X = np.array([3.3,4.4,5.5,6.71,6.93,4.168,9.779,6.182,7.59,2.167,\n",
        "                         7.042,10.791,5.313,7.997,5.654,9.27,3.1])\n",
        "train_Y = np.array([1.7,2.76,2.09,3.19,1.694,1.573,3.366,2.596,2.53,1.221,\n",
        "                         2.827,3.465,1.65,2.904,2.42,2.94,1.3])"
      ],
      "execution_count": 0,
      "outputs": []
    },
    {
      "metadata": {
        "id": "H2vs6JqYQKkY",
        "colab_type": "code",
        "colab": {}
      },
      "cell_type": "code",
      "source": [
        "print(train_X.shape[0])\n",
        "print(train_Y.shape[0])"
      ],
      "execution_count": 0,
      "outputs": []
    },
    {
      "metadata": {
        "id": "_KKICqFp3UPW",
        "colab_type": "text"
      },
      "cell_type": "markdown",
      "source": [
        "# **Dataset visualization**"
      ]
    },
    {
      "metadata": {
        "id": "PMM6VI5MxO9Q",
        "colab_type": "code",
        "colab": {
          "base_uri": "https://localhost:8080/",
          "height": 382
        },
        "outputId": "21b9425d-6f5b-4c98-adee-4e0deafc16ed"
      },
      "cell_type": "code",
      "source": [
        "\n",
        "# Plotting example dataset# Plottin \n",
        "plt.figure(figsize = (15,4),dpi=100)\n",
        "plt.subplot(121)\n",
        "plt.scatter(train_X,train_Y)\n",
        "plt.xlabel(\"Train_X\")\n",
        "plt.ylabel(\"Train_Y\")\n",
        "plt.show()"
      ],
      "execution_count": 4,
      "outputs": [
        {
          "output_type": "display_data",
          "data": {
            "image/png": "[encoded data removed]",
            "text/plain": [
              "<matplotlib.figure.Figure at 0x7f84d7d6add8>"
            ]
          },
          "metadata": {
            "tags": []
          }
        }
      ]
    },
    {
      "metadata": {
        "id": "sbvRMosVs2Bt",
        "colab_type": "text"
      },
      "cell_type": "markdown",
      "source": [
        "# **Gradient Descent**"
      ]
    },
    {
      "metadata": {
        "id": "eki68AVh4zCW",
        "colab_type": "text"
      },
      "cell_type": "markdown",
      "source": [
        "Trying to find the optimal **\"m**\" and** \"b\"** values that defines the Best fitting line."
      ]
    },
    {
      "metadata": {
        "id": "LL4JW4iV-No3",
        "colab_type": "text"
      },
      "cell_type": "markdown",
      "source": [
        "![alt text](https://camo.githubusercontent.com/99868ce5869accd061892f9d54cd71cb884c4233/68747470733a2f2f6d656469612e7175697a697a7a2e636f6d2f7265736f757263652f67732f7175697a697a7a2d6d656469612f7175697a7a65732f4c3246776347687663335270626d646663484a765a4339696247396963793942525735434d6c56764e47777864314d3254336c5151323944564568484d486334625864795355707462584a6952315a6e53485a75575577786330686153325274626a4e3155574e5751576c4552584257566d564c546c427363446c3652326f7a52325a4e636d56474e473974626c4670517a517a654664766246564e4f456b7455533549656e4974646c59316146553455566461583345333f773d373230)"
      ]
    },
    {
      "metadata": {
        "id": "5UV7E43S-Vbk",
        "colab_type": "text"
      },
      "cell_type": "markdown",
      "source": [
        "Error Metric (**Criterion**: measures the mean squared error between n elements in the input x and target y)\n",
        "Our error metric can be understood as a measure of closeness\n",
        "  - If the line doesn't fit at all => Error will be BIG\n",
        "  - If the line fits well => Error will be SMAL\n",
        "  \n",
        "  AIM: We want to **reduce the error**, because doing that we are closer to the** BEST fitting line**."
      ]
    },
    {
      "metadata": {
        "id": "a8On0MLz-VdA",
        "colab_type": "text"
      },
      "cell_type": "markdown",
      "source": [
        "SSE - Sum of Squared Error\n",
        "There are several ways of measuring the error, we will be using SSE this  linear regression problem:\n",
        "                            "
      ]
    },
    {
      "metadata": {
        "id": "q6r1rMQ9-Vss",
        "colab_type": "text"
      },
      "cell_type": "markdown",
      "source": [
        "![alt text](https://camo.githubusercontent.com/4e37490f6643d1fea845784d77235acd1c61295a/687474703a2f2f6936342e74696e797069632e636f6d2f3238747a7839672e706e67)\n",
        "\n",
        "> What we need to compute the SSE:\n",
        "          \n",
        "*   The current 'm' and 'b' to know which is our current fitting line\n",
        "*   The real data, that corresponds to 'target' on the equation of the image.\n",
        "\n",
        "What we will return:\n",
        "\n",
        "\n",
        "> 1. The error\n",
        "\n",
        "\n",
        "\n",
        "\n",
        "\n",
        "\n",
        "\n"
      ]
    },
    {
      "metadata": {
        "id": "ReqzzWeFHfS8",
        "colab_type": "code",
        "colab": {}
      },
      "cell_type": "code",
      "source": [
        "n_samples = train_X.shape[0] # Number of samples\n",
        "\n",
        "\n",
        "def SSE(m,b):\n",
        "    \n",
        "    totalError = 0.0\n",
        "    \n",
        "    for i in range(n_samples):\n",
        "\n",
        "        # Iterate through the dataset\n",
        "        x = train_X[i] # \n",
        "        y = train_Y[i] #\n",
        "        \n",
        "        #The real y value\n",
        "        currentTarget = y\n",
        "        \n",
        "        #Predicted rating with our current fitting line\n",
        "        #y = mx + b\n",
        "        currentOutput = m*x + b\n",
        "        \n",
        "        #Compute squared error\n",
        "        currentSquaredError = (currentTarget - currentOutput)**2\n",
        "\n",
        "        \n",
        "        #Add it to the total error\n",
        "        totalError += currentSquaredError\n",
        "\n",
        "    sse = totalError/n_samples\n",
        "    \n",
        "    return totalError"
      ],
      "execution_count": 0,
      "outputs": []
    },
    {
      "metadata": {
        "id": "zkPRYBgBHtTC",
        "colab_type": "text"
      },
      "cell_type": "markdown",
      "source": [
        "Example of use:\n",
        "\n",
        "Measure the error for the fitting line:\n",
        "** y = 2x + 3**"
      ]
    },
    {
      "metadata": {
        "id": "b9ohAZOfHgBQ",
        "colab_type": "code",
        "colab": {
          "base_uri": "https://localhost:8080/",
          "height": 34
        },
        "outputId": "7c5efe3a-1b84-42d7-b8eb-9fc1be2eda15"
      },
      "cell_type": "code",
      "source": [
        "#Change the values of m and b\n",
        "m = 2 \n",
        "b = 3\n",
        "\n",
        "sse = SSE(m,b)\n",
        "print(sse)\n",
        "\n",
        "#print('For the fitting line: y = %sx + %s\\nSSE: %.2f' %(m,b,sse))"
      ],
      "execution_count": 7,
      "outputs": [
        {
          "output_type": "stream",
          "text": [
            "3201.17924\n"
          ],
          "name": "stdout"
        }
      ]
    },
    {
      "metadata": {
        "id": "mg9xMUymQibN",
        "colab_type": "text"
      },
      "cell_type": "markdown",
      "source": [
        "**Plot**"
      ]
    },
    {
      "metadata": {
        "id": "T2-FOpdzQlL6",
        "colab_type": "code",
        "colab": {
          "base_uri": "https://localhost:8080/",
          "height": 382
        },
        "outputId": "4d6a3347-d277-4e7a-9765-195d64e49af2"
      },
      "cell_type": "code",
      "source": [
        "# Plotting example dataset# Plottin \n",
        "plt.figure(figsize = (15,4),dpi=100)\n",
        "plt.subplot(121)\n",
        "plt.plot(train_X, m*train_X + b,color='red',label='Our Fitting Line')\n",
        "plt.scatter(train_X,train_Y)\n",
        "plt.xlabel(\"Train_X\")\n",
        "plt.ylabel(\"Train_Y\")\n",
        "plt.show()"
      ],
      "execution_count": 8,
      "outputs": [
        {
          "output_type": "display_data",
          "data": {
            "image/png": "[encoded data removed]",
            "text/plain": [
              "<matplotlib.figure.Figure at 0x7f84d5cbfdd8>"
            ]
          },
          "metadata": {
            "tags": []
          }
        }
      ]
    },
    {
      "metadata": {
        "id": "Y2_-o2orplDS",
        "colab_type": "code",
        "colab": {}
      },
      "cell_type": "code",
      "source": [
        "#Change the values of m and b\n",
        "m = 0.01\n",
        "b = 2.62\n",
        "\n",
        "\n",
        "sse = SSE(m,b)\n",
        "print(sse)\n",
        "\n",
        "print('For the fitting line: y = %sx + %s\\nSSE: %.2f' %(m,b,sse))"
      ],
      "execution_count": 0,
      "outputs": []
    },
    {
      "metadata": {
        "id": "2QN_J8qenQTU",
        "colab_type": "code",
        "colab": {}
      },
      "cell_type": "code",
      "source": [
        "\n",
        "# Plotting example dataset# Plottin \n",
        "plt.figure(figsize = (15,4),dpi=100)\n",
        "plt.subplot(121)\n",
        "plt.plot(train_X, m*train_X + b,color='red',label='Our Fitting Line')\n",
        "plt.scatter(train_X,train_Y)\n",
        "plt.xlabel(\"Train_X\")\n",
        "plt.ylabel(\"Train_Y\")\n",
        "plt.show()"
      ],
      "execution_count": 0,
      "outputs": []
    },
    {
      "metadata": {
        "id": "5Ta5tgLaqbOr",
        "colab_type": "text"
      },
      "cell_type": "markdown",
      "source": [
        "# **Minimizing our error - Gradient Descent**"
      ]
    },
    {
      "metadata": {
        "id": "_5utYHuXqmF8",
        "colab_type": "text"
      },
      "cell_type": "markdown",
      "source": [
        "![alt text](https://camo.githubusercontent.com/834d5772d3636a6ccc320f8719a9c4b3f28379ef/687474703a2f2f7777772e6269672d646174612e746970732f77702d636f6e74656e742f75706c6f6164732f323031362f30362f6772616469656e742d74797065732e6a7067)"
      ]
    },
    {
      "metadata": {
        "id": "JeNfSLtgrNoM",
        "colab_type": "text"
      },
      "cell_type": "markdown",
      "source": [
        "The strategy:\n",
        "        \n",
        "\n",
        "1.   Create an initial line\n",
        "2.   Update the line parameters in a way that makes the error SMALLER\n",
        "\n",
        "The 2nd point implies that we need a direction, a way to descend the error valley.\n",
        "\n",
        "The way to go: Compute the partial derivatives respect to 'm' and 'b'. Get the direction that decreases the gradient (towards zero error) and update 'm' and 'b' accordingly.\n",
        "\n",
        "What we need to compute the Gradient Descent:\n",
        "\n",
        "1.   The **current 'm' and 'b**' to know which is our current fitting line\n",
        "2.   The **real data, that corresponds to 'target'** on the equation of the image\n",
        "\n",
        "\n",
        "What will do:\n",
        "\n",
        "\n",
        "\n",
        "> **Partial derivatives** respect to 'm' and 'b'\n",
        "\n",
        "\n",
        "What we will return:\n",
        "\n",
        "\n",
        "1.   The** new 'better'** updated 'm' and 'b'\n",
        "\n",
        "\n",
        "\n",
        "\n",
        "\n"
      ]
    },
    {
      "metadata": {
        "id": "NC41_5K3s0JO",
        "colab_type": "code",
        "colab": {}
      },
      "cell_type": "code",
      "source": [
        "def gradient_descent_step(m,b):\n",
        "    \n",
        "    N = n_samples\n",
        "    m_grad = 0\n",
        "    b_grad = 0\n",
        "    \n",
        "    for i in range(N):\n",
        "\n",
        "        #Get current pair (x,y)\n",
        "        x = train_X[i]\n",
        "        y = train_Y[i]\n",
        "\n",
        "        #Partial derivative respect 'm'\n",
        "        dm = -((2/N) * x * (y - (m*x + b)))\n",
        "        \n",
        "        #Partial derivative respect 'b'\n",
        "        db = - ((2/N) * (y - (m*x + b)))\n",
        "    \n",
        "        #Update gradient\n",
        "        m_grad = m_grad + dm\n",
        "        b_grad = b_grad + db\n",
        "    \n",
        "    #Set the new 'better' updated 'm' and 'b'\n",
        "    m_updated = m - 0.0001*m_grad\n",
        "    b_updated = b - 0.0001*b_grad\n",
        "    '''\n",
        "    Important note: The value '0.0001' that multiplies the 'm_grad' and 'b_grad' is the 'learning rate', but it's a concept\n",
        "    out of the scope of this challenge. For now, just leave that there and think about it like a 'smoother' of the learn, \n",
        "    to prevent overshooting, that is, an extremly fast and uncontrolled learning.\n",
        "    '''\n",
        "    \n",
        "    return m_updated,b_updated"
      ],
      "execution_count": 0,
      "outputs": []
    },
    {
      "metadata": {
        "id": "_ijPSOLjtRIL",
        "colab_type": "code",
        "colab": {}
      },
      "cell_type": "code",
      "source": [
        "m = 2\n",
        "b = 3\n",
        "\n",
        "\n",
        "\n",
        "sse = SSE(m,b)\n",
        "\n",
        "print('Starting line: y = %.2fx + %.2f - Error: %.2f' %(m,b,sse))\n",
        "\n",
        "for i in range(100000):\n",
        "    m,b = gradient_descent_step(m,b)\n",
        "    sse = SSE(m,b)\n",
        "    print('At step %d - Line: y = %.2fx + %.2f - Error: %.2f' %(i+1,m,b,sse))\n",
        "\n",
        "print('\\nBest  line: y = %.2fx + %.2f - Error: %.2f' %(m,b,sse))"
      ],
      "execution_count": 0,
      "outputs": []
    },
    {
      "metadata": {
        "id": "PWN3RuGEtsOM",
        "colab_type": "code",
        "colab": {}
      },
      "cell_type": "code",
      "source": [
        "m= 0.23\n",
        "b= 0.97\n",
        "x = train_X\n",
        "\n",
        "# Plotting example dataset# Plottin \n",
        "plt.figure(figsize = (15,4),dpi=100)\n",
        "plt.subplot(121)\n",
        "plt.plot(train_X, m*train_X + b,color='red',label='Our Fitting Line')\n",
        "plt.scatter(train_X,train_Y)\n",
        "plt.xlabel(\"Train_X\")\n",
        "plt.ylabel(\"Train_Y\")\n",
        "plt.show()\n"
      ],
      "execution_count": 0,
      "outputs": []
    },
    {
      "metadata": {
        "id": "Huuo2V9SH5kQ",
        "colab_type": "text"
      },
      "cell_type": "markdown",
      "source": [
        "# **under researched but great visualization**"
      ]
    },
    {
      "metadata": {
        "id": "IyOXHbZPyvwk",
        "colab_type": "code",
        "colab": {}
      },
      "cell_type": "code",
      "source": [
        "from mpl_toolkits.mplot3d import Axes3D\n",
        "\n",
        "def error(x, y):\n",
        "    return SSE(x,y)\n",
        "\n",
        "m = np.arange(0,1,0.01)\n",
        "b = np.arange(-0.5,1,0.01)\n",
        "\n",
        "\n",
        "fig = plt.figure(figsize=(20,7))\n",
        "\n",
        "ax = fig.add_subplot(121, projection='3d')\n",
        "ax.view_init(elev=20.0, azim=115)\n",
        "\n",
        "X, Y = np.meshgrid(m, b)\n",
        "\n",
        "zs = np.array([error(x,y) for x,y in zip(np.ravel(X), np.ravel(Y))])\n",
        "Z = zs.reshape(X.shape)\n",
        "\n",
        "ax.plot_surface(X, Y, Z,cmap='hot')\n",
        "\n",
        "ax.set_title('Gradient Descent')\n",
        "ax.set_xlabel('slope (m)')\n",
        "ax.set_ylabel('y-intercept (b)')\n",
        "ax.set_zlabel('Error')\n",
        "\n",
        "#PLOT2\n",
        "ax2 = fig.add_subplot(122, projection='3d')\n",
        "ax2.view_init(elev=50.0, azim=150)\n",
        "\n",
        "X, Y = np.meshgrid(m, b)\n",
        "\n",
        "zs = np.array([error(x,y) for x,y in zip(np.ravel(X), np.ravel(Y))])\n",
        "Z = zs.reshape(X.shape)\n",
        "\n",
        "ax2.plot_surface(X, Y, Z,cmap='hot')\n",
        "\n",
        "ax2.set_title('Gradient Descent')\n",
        "ax2.set_xlabel('slope (m)')\n",
        "ax2.set_ylabel('y-intercept (b)')\n",
        "ax2.set_zlabel('Error')\n",
        "\n",
        "\n",
        "plt.show()"
      ],
      "execution_count": 0,
      "outputs": []
    },
    {
      "metadata": {
        "id": "GaPHGZ8A-31u",
        "colab_type": "text"
      },
      "cell_type": "markdown",
      "source": [
        "# Comparing the result from the PyTorch result"
      ]
    },
    {
      "metadata": {
        "id": "aCu7SB87_uoX",
        "colab_type": "text"
      },
      "cell_type": "markdown",
      "source": [
        "from Numpy the best line: y = 0.23x + 0.97 with  Error: 2.68\n"
      ]
    },
    {
      "metadata": {
        "id": "uPVsyFgOAVGf",
        "colab_type": "text"
      },
      "cell_type": "markdown",
      "source": [
        "from PyTorch the best  line: y= 0.25163581x + 0.79879524 with** ??**"
      ]
    },
    {
      "metadata": {
        "id": "ZJKJJh0vA2Ni",
        "colab_type": "text"
      },
      "cell_type": "markdown",
      "source": [
        "Therefore, let's compute the error of PyTorch with the m and b a"
      ]
    },
    {
      "metadata": {
        "id": "HkLdIPJe_D-g",
        "colab_type": "code",
        "colab": {}
      },
      "cell_type": "code",
      "source": [
        "m= 0.25163581\n",
        "b= 0.79879524\n",
        "\n",
        "sse = SSE(m,b)\n",
        "print(sse)\n",
        "\n",
        "print('For the fitting line: y = %sx + %s\\nSSE: %.2f' %(m,b,sse))"
      ],
      "execution_count": 0,
      "outputs": []
    },
    {
      "metadata": {
        "id": "FkisuqRaBNXG",
        "colab_type": "code",
        "colab": {}
      },
      "cell_type": "code",
      "source": [
        "#Conclusion PyTorch Model is better, however is it better  to understand how these operations work in Numpy."
      ],
      "execution_count": 0,
      "outputs": []
    }
  ]
}